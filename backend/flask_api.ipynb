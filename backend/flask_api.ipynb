{
 "cells": [
  {
   "cell_type": "code",
   "execution_count": 1,
   "metadata": {},
   "outputs": [],
   "source": [
    "from flask import Flask, request, jsonify\n",
    "from flask_pymongo import PyMongo\n",
    "from bson.objectid import ObjectId\n",
    "from flask_cors import CORS\n",
    "from dotenv import load_dotenv\n",
    "import os"
   ]
  },
  {
   "cell_type": "code",
   "execution_count": 2,
   "metadata": {},
   "outputs": [
    {
     "data": {
      "text/plain": [
       "True"
      ]
     },
     "execution_count": 2,
     "metadata": {},
     "output_type": "execute_result"
    }
   ],
   "source": [
    "load_dotenv()"
   ]
  },
  {
   "cell_type": "code",
   "execution_count": 3,
   "metadata": {},
   "outputs": [
    {
     "data": {
      "text/plain": [
       "<flask_cors.extension.CORS at 0x20f28b47c20>"
      ]
     },
     "execution_count": 3,
     "metadata": {},
     "output_type": "execute_result"
    }
   ],
   "source": [
    "app = Flask(__name__)\n",
    "app.config[\"SECRET_KEY\"] = os.getenv(\"SECRET_KEY\")\n",
    "app.config[\"MONGO_URI\"] = os.getenv(\"MONGO_URI\")\n",
    "CORS(app)"
   ]
  },
  {
   "cell_type": "code",
   "execution_count": 4,
   "metadata": {},
   "outputs": [
    {
     "name": "stdout",
     "output_type": "stream",
     "text": [
      "Connect to mongodb successfully\n"
     ]
    }
   ],
   "source": [
    "try:\n",
    "    mongodb_client = PyMongo(app)\n",
    "    db = mongodb_client.db\n",
    "    print(\"Connect to mongodb successfully\")\n",
    "except Exception as e:\n",
    "    print(\"Error connect to mongodb:\", str(e))\n"
   ]
  },
  {
   "cell_type": "code",
   "execution_count": 5,
   "metadata": {},
   "outputs": [],
   "source": [
    "@app.route('/add', methods=['POST'])\n",
    "def add_data():\n",
    "    try:\n",
    "        data = request.json\n",
    "        result = db.User.insert_one(data)\n",
    "        return jsonify({\"message\": \"success\", \"_id\": str(result.inserted_id)}), 201\n",
    "    except Exception as e:\n",
    "        return jsonify({\"message\": \"error\", \"error details\": str(e)}), 400"
   ]
  },
  {
   "cell_type": "code",
   "execution_count": 6,
   "metadata": {},
   "outputs": [],
   "source": [
    "@app.route('/get/<id>', methods=['GET'])\n",
    "def get_data(id):\n",
    "    data = db.User.find_one({\"_id\": ObjectId(id)})\n",
    "    if data:\n",
    "        return jsonify({\"_id\": str(data[\"_id\"]), \"data\": data})\n",
    "    return jsonify({\"error\": \"User not found\"}), 404"
   ]
  },
  {
   "cell_type": "code",
   "execution_count": 7,
   "metadata": {},
   "outputs": [],
   "source": [
    "@app.route('/delete/<id>', methods=['DELETE'])\n",
    "def delete_data(id):\n",
    "    data = db.User.delete_one({\"_id\": ObjectId(id)})\n",
    "    if data:\n",
    "        return jsonify({\"message\": \"Delete user successfully\"})\n",
    "    return jsonify({\"error\": \"USer not found\"}), 404"
   ]
  },
  {
   "cell_type": "code",
   "execution_count": 8,
   "metadata": {},
   "outputs": [],
   "source": [
    "@app.route('/update/<id>', methods=['PUT'])\n",
    "def update_data(id):\n",
    "    try:\n",
    "        data = request.json\n",
    "        db.User.update_one({\"_id\": ObjectId(id)}, {\"$set\": data})\n",
    "        return jsonify({\"message\": \"Update user successfully\", \"data\": data}), 200\n",
    "    except Exception as e:\n",
    "        return jsonify({\"message\": \"error\", \"error details\": str(e)}), 400"
   ]
  },
  {
   "cell_type": "code",
   "execution_count": 9,
   "metadata": {},
   "outputs": [],
   "source": [
    "@app.route('/getAll', methods=['GET'])\n",
    "def get_all_data():\n",
    "    data = db.User.find()\n",
    "    results = []\n",
    "    for item in data:\n",
    "        item['_id'] = str(item['_id'])\n",
    "        results.append(item)\n",
    "    return jsonify(results)"
   ]
  },
  {
   "cell_type": "code",
   "execution_count": 10,
   "metadata": {},
   "outputs": [
    {
     "name": "stdout",
     "output_type": "stream",
     "text": [
      " * Serving Flask app '__main__'\n",
      " * Debug mode: on\n"
     ]
    },
    {
     "name": "stderr",
     "output_type": "stream",
     "text": [
      "WARNING: This is a development server. Do not use it in a production deployment. Use a production WSGI server instead.\n",
      " * Running on http://127.0.0.1:5000\n",
      "Press CTRL+C to quit\n",
      "127.0.0.1 - - [21/Feb/2025 09:16:19] \"GET /getAll HTTP/1.1\" 200 -\n"
     ]
    }
   ],
   "source": [
    "if __name__ == '__main__':\n",
    "   app.run(debug=True, use_reloader=False)"
   ]
  }
 ],
 "metadata": {
  "kernelspec": {
   "display_name": "CielTan",
   "language": "python",
   "name": "python3"
  },
  "language_info": {
   "codemirror_mode": {
    "name": "ipython",
    "version": 3
   },
   "file_extension": ".py",
   "mimetype": "text/x-python",
   "name": "python",
   "nbconvert_exporter": "python",
   "pygments_lexer": "ipython3",
   "version": "3.12.2"
  }
 },
 "nbformat": 4,
 "nbformat_minor": 2
}
